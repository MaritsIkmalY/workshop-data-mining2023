{
 "cells": [
  {
   "cell_type": "code",
   "execution_count": 8,
   "metadata": {},
   "outputs": [
    {
     "name": "stdout",
     "output_type": "stream",
     "text": [
      "Dataset\n",
      "      #     X     Y  CLASS\n",
      "0    1   4.0  53.0      1\n",
      "1    2   5.0  63.0      1\n",
      "2    3  10.0  59.0      1\n",
      "3    4   9.0   NaN      1\n",
      "4    5  13.0  49.0      1\n",
      "..  ..   ...   ...    ...\n",
      "70  71  66.0  23.0      4\n",
      "71  72  61.0  25.0      4\n",
      "72  73  76.0  27.0      4\n",
      "73  74  72.0  31.0      4\n",
      "74  75  64.0  30.0      4\n",
      "\n",
      "[75 rows x 4 columns]\n",
      "\n",
      "\n",
      "Dataset setelah pengisian missing value \n",
      "      #     X          Y  CLASS\n",
      "0    1   4.0  53.000000      1\n",
      "1    2   5.0  63.000000      1\n",
      "2    3  10.0  59.000000      1\n",
      "3    4   9.0  64.833333      1\n",
      "4    5  13.0  49.000000      1\n",
      "..  ..   ...        ...    ...\n",
      "70  71  66.0  23.000000      4\n",
      "71  72  61.0  25.000000      4\n",
      "72  73  76.0  27.000000      4\n",
      "73  74  72.0  31.000000      4\n",
      "74  75  64.0  30.000000      4\n",
      "\n",
      "[75 rows x 4 columns]\n"
     ]
    }
   ],
   "source": [
    "import pandas as pd\n",
    "dataset = pd.read_csv('data/ruspini_missing.csv')\n",
    "print('Dataset\\n', dataset)\n",
    "dataset = dataset.fillna(dataset.groupby('CLASS').transform('mean'))\n",
    "print('\\n\\nDataset setelah pengisian missing value \\n', dataset)"
   ]
  }
 ],
 "metadata": {
  "kernelspec": {
   "display_name": "base",
   "language": "python",
   "name": "python3"
  },
  "language_info": {
   "codemirror_mode": {
    "name": "ipython",
    "version": 3
   },
   "file_extension": ".py",
   "mimetype": "text/x-python",
   "name": "python",
   "nbconvert_exporter": "python",
   "pygments_lexer": "ipython3",
   "version": "3.10.9"
  },
  "orig_nbformat": 4
 },
 "nbformat": 4,
 "nbformat_minor": 2
}
