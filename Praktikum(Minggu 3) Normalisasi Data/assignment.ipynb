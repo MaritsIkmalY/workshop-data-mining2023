{
 "cells": [
  {
   "cell_type": "code",
   "execution_count": 1,
   "metadata": {},
   "outputs": [
    {
     "name": "stdout",
     "output_type": "stream",
     "text": [
      "     PassengerId  Survived  Pclass  \\\n",
      "0              1         0       3   \n",
      "1              2         1       1   \n",
      "2              3         1       3   \n",
      "3              4         1       1   \n",
      "4              5         0       3   \n",
      "..           ...       ...     ...   \n",
      "886          887         0       2   \n",
      "887          888         1       1   \n",
      "888          889         0       3   \n",
      "889          890         1       1   \n",
      "890          891         0       3   \n",
      "\n",
      "                                                  Name     Sex   Age  SibSp  \\\n",
      "0                              Braund, Mr. Owen Harris    male  22.0      1   \n",
      "1    Cumings, Mrs. John Bradley (Florence Briggs Th...  female  38.0      1   \n",
      "2                               Heikkinen, Miss. Laina  female  26.0      0   \n",
      "3         Futrelle, Mrs. Jacques Heath (Lily May Peel)  female  35.0      1   \n",
      "4                             Allen, Mr. William Henry    male  35.0      0   \n",
      "..                                                 ...     ...   ...    ...   \n",
      "886                              Montvila, Rev. Juozas    male  27.0      0   \n",
      "887                       Graham, Miss. Margaret Edith  female  19.0      0   \n",
      "888           Johnston, Miss. Catherine Helen \"Carrie\"  female   NaN      1   \n",
      "889                              Behr, Mr. Karl Howell    male  26.0      0   \n",
      "890                                Dooley, Mr. Patrick    male  32.0      0   \n",
      "\n",
      "     Parch            Ticket     Fare Cabin Embarked  \n",
      "0        0         A/5 21171   7.2500   NaN        S  \n",
      "1        0          PC 17599  71.2833   C85        C  \n",
      "2        0  STON/O2. 3101282   7.9250   NaN        S  \n",
      "3        0            113803  53.1000  C123        S  \n",
      "4        0            373450   8.0500   NaN        S  \n",
      "..     ...               ...      ...   ...      ...  \n",
      "886      0            211536  13.0000   NaN        S  \n",
      "887      0            112053  30.0000   B42        S  \n",
      "888      2        W./C. 6607  23.4500   NaN        S  \n",
      "889      0            111369  30.0000  C148        C  \n",
      "890      0            370376   7.7500   NaN        Q  \n",
      "\n",
      "[891 rows x 12 columns]\n"
     ]
    }
   ],
   "source": [
    "import pandas as pd\n",
    "dataset = pd.read_csv('data/titanic.csv')\n",
    "print(dataset)"
   ]
  },
  {
   "cell_type": "code",
   "execution_count": 2,
   "metadata": {},
   "outputs": [
    {
     "name": "stdout",
     "output_type": "stream",
     "text": [
      "Jumlah baris 891\n",
      "Jumlah kolom 12\n"
     ]
    }
   ],
   "source": [
    "rows, cols = dataset.shape\n",
    "print('Jumlah baris', rows)\n",
    "print('Jumlah kolom', cols)"
   ]
  },
  {
   "cell_type": "code",
   "execution_count": 27,
   "metadata": {},
   "outputs": [
    {
     "name": "stdout",
     "output_type": "stream",
     "text": [
      "      Age     Fare\n",
      "0    22.0   7.2500\n",
      "1    38.0  71.2833\n",
      "2    26.0   7.9250\n",
      "3    35.0  53.1000\n",
      "4    35.0   8.0500\n",
      "..    ...      ...\n",
      "886  27.0  13.0000\n",
      "887  19.0  30.0000\n",
      "888   NaN  23.4500\n",
      "889  26.0  30.0000\n",
      "890  32.0   7.7500\n",
      "\n",
      "[891 rows x 2 columns]\n"
     ]
    }
   ],
   "source": [
    "data = pd.DataFrame(dataset, columns=['Age', 'Fare'])\n",
    "print(data)"
   ]
  },
  {
   "cell_type": "code",
   "execution_count": 4,
   "metadata": {},
   "outputs": [
    {
     "name": "stdout",
     "output_type": "stream",
     "text": [
      "     Survived\n",
      "0           0\n",
      "1           1\n",
      "2           1\n",
      "3           1\n",
      "4           0\n",
      "..        ...\n",
      "886         0\n",
      "887         1\n",
      "888         0\n",
      "889         1\n",
      "890         0\n",
      "\n",
      "[891 rows x 1 columns]\n"
     ]
    }
   ],
   "source": [
    "classs = pd.DataFrame(dataset, columns=['Survived'])\n",
    "print(classs)"
   ]
  },
  {
   "cell_type": "code",
   "execution_count": 30,
   "metadata": {},
   "outputs": [
    {
     "name": "stdout",
     "output_type": "stream",
     "text": [
      "          Age     Fare\n",
      "0    22.00000   7.2500\n",
      "1    38.00000  71.2833\n",
      "2    26.00000   7.9250\n",
      "3    35.00000  53.1000\n",
      "4    35.00000   8.0500\n",
      "..        ...      ...\n",
      "886  27.00000  13.0000\n",
      "887  19.00000  30.0000\n",
      "888  25.14062  23.4500\n",
      "889  26.00000  30.0000\n",
      "890  32.00000   7.7500\n",
      "\n",
      "[891 rows x 2 columns]\n"
     ]
    },
    {
     "name": "stderr",
     "output_type": "stream",
     "text": [
      "C:\\Users\\ACER\\AppData\\Local\\Temp\\ipykernel_11924\\2386813167.py:1: FutureWarning: The default value of numeric_only in DataFrameGroupBy.mean is deprecated. In a future version, numeric_only will default to False. Either specify numeric_only or select only columns which should be valid for the function.\n",
      "  data = data.fillna(dataset.groupby('Survived').transform('mean'))\n"
     ]
    }
   ],
   "source": [
    "data = data.fillna(dataset.groupby('Survived').transform('mean'))\n",
    "print(data)"
   ]
  },
  {
   "cell_type": "code",
   "execution_count": 31,
   "metadata": {},
   "outputs": [],
   "source": [
    "dataAge = data['Age']\n",
    "dataFare = data['Fare']\n",
    "\n",
    "minAge = dataAge.min()\n",
    "maxAge = dataAge.max()\n",
    "avgAge = dataAge.mean()\n",
    "stdAge = dataAge.std()\n",
    "\n",
    "minFare = dataFare.min()\n",
    "maxFare = dataFare.max()\n",
    "avgFare = dataFare.mean()\n",
    "stdFare = dataFare.std()"
   ]
  },
  {
   "cell_type": "code",
   "execution_count": 41,
   "metadata": {},
   "outputs": [
    {
     "name": "stdout",
     "output_type": "stream",
     "text": [
      "Min Max Age dan Fare\n",
      "\n",
      "          Age      Fare\n",
      "0    0.271174  0.014151\n",
      "1    0.472229  0.139136\n",
      "2    0.321438  0.015469\n",
      "3    0.434531  0.103644\n",
      "4    0.434531  0.015713\n",
      "..        ...       ...\n",
      "886  0.334004  0.025374\n",
      "887  0.233476  0.058556\n",
      "888  0.310639  0.045771\n",
      "889  0.321438  0.058556\n",
      "890  0.396833  0.015127\n",
      "\n",
      "[891 rows x 2 columns]\n"
     ]
    }
   ],
   "source": [
    "print(\"Min Max Age dan Fare\\n\")\n",
    "data['Age'] = (dataAge-minAge)*(1-0)/(maxAge-minAge)\n",
    "data['Fare'] = (dataFare-minFare)*(1-0)/(maxFare-minFare)\n",
    "print(data)\n"
   ]
  },
  {
   "cell_type": "code",
   "execution_count": 42,
   "metadata": {},
   "outputs": [
    {
     "name": "stdout",
     "output_type": "stream",
     "text": [
      "Z Score Age dan Fare\n",
      "\n",
      "          Age      Fare\n",
      "0   -0.552050 -0.502163\n",
      "1    0.659105  0.786404\n",
      "2   -0.249261 -0.488580\n",
      "3    0.432013  0.420494\n",
      "4    0.432013 -0.486064\n",
      "..        ...       ...\n",
      "886 -0.173564 -0.386454\n",
      "887 -0.779142 -0.044356\n",
      "888 -0.314314 -0.176164\n",
      "889 -0.249261 -0.044356\n",
      "890  0.204922 -0.492101\n",
      "\n",
      "[891 rows x 2 columns]\n"
     ]
    }
   ],
   "source": [
    "print(\"Z Score Age dan Fare\\n\")\n",
    "data['Age'] = (dataAge-avgAge)/stdAge\n",
    "data['Fare'] = (dataFare-avgFare)/stdFare\n",
    "print(data)"
   ]
  },
  {
   "cell_type": "code",
   "execution_count": 43,
   "metadata": {},
   "outputs": [
    {
     "name": "stdout",
     "output_type": "stream",
     "text": [
      "Sigmodial Age dan Fare\n",
      "\n",
      "     Age      Fare\n",
      "0    1.0  0.999290\n",
      "1    1.0  1.000000\n",
      "2    1.0  0.999639\n",
      "3    1.0  1.000000\n",
      "4    1.0  0.999681\n",
      "..   ...       ...\n",
      "886  1.0  0.999998\n",
      "887  1.0  1.000000\n",
      "888  1.0  1.000000\n",
      "889  1.0  1.000000\n",
      "890  1.0  0.999569\n",
      "\n",
      "[891 rows x 2 columns]\n"
     ]
    }
   ],
   "source": [
    "import numpy as np\n",
    "print(\"Sigmodial Age dan Fare\\n\")\n",
    "data['Age'] = 1 / (1 + np.exp(-dataAge))\n",
    "data['Fare'] = 1 / (1 + np.exp(-dataFare))\n",
    "print(data)"
   ]
  }
 ],
 "metadata": {
  "kernelspec": {
   "display_name": "base",
   "language": "python",
   "name": "python3"
  },
  "language_info": {
   "codemirror_mode": {
    "name": "ipython",
    "version": 3
   },
   "file_extension": ".py",
   "mimetype": "text/x-python",
   "name": "python",
   "nbconvert_exporter": "python",
   "pygments_lexer": "ipython3",
   "version": "3.10.9"
  },
  "orig_nbformat": 4
 },
 "nbformat": 4,
 "nbformat_minor": 2
}
